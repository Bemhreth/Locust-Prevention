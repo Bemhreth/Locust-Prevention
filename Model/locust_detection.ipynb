{
 "cells": [
  {
   "cell_type": "code",
   "execution_count": null,
   "metadata": {},
   "outputs": [],
   "source": [
    "import warnings\n",
    "warnings.filterwarnings(\"ignore\")"
   ]
  },
  {
   "cell_type": "code",
   "execution_count": null,
   "metadata": {},
   "outputs": [],
   "source": [
    "# import all the required library\n",
    "import cv2\n",
    "import os \n",
    "import numpy as np\n",
    "import matplotlib\n",
    "from imutils import paths\n",
    "import matplotlib.pyplot as plt\n",
    "\n",
    "from sklearn.model_selection import train_test_split\n",
    "from sklearn.metrics import classification_report\n",
    "from sklearn.preprocessing import LabelBinarizer\n",
    "from sklearn.preprocessing import LabelEncoder\n",
    "from sklearn.datasets import make_blobs\n",
    "\n",
    "from keras.models import Sequential\n",
    "from keras.layers.normalization import BatchNormalization\n",
    "from keras.layers.convolutional import Conv2D, MaxPooling2D\n",
    "from keras.preprocessing.image import ImageDataGenerator\n",
    "from keras.callbacks import ModelCheckpoint\n",
    "from keras.layers.core import Activation\n",
    "from keras.layers.core import Flatten\n",
    "from keras.layers.core import Dropout\n",
    "from keras.layers.core import Dense\n",
    "from keras.optimizers import SGD\n",
    "from keras.utils import plot_model\n",
    "from keras import backend as K"
   ]
  },
  {
   "cell_type": "code",
   "execution_count": null,
   "metadata": {},
   "outputs": [],
   "source": [
    "class SimplePreprocessor:\n",
    "    def __init__(self, width, height, inter=cv2.INTER_AREA):\n",
    "        # store the target image width, height, and interpolation\n",
    "        # method used when resizing\n",
    "        self.width = width\n",
    "        self.height = height\n",
    "        self.inter = inter\n",
    "\n",
    "    def preprocess(self, image):\n",
    "        # resize the image to a fixed size, ignoring the aspect ratio\n",
    "        return cv2.resize(image, (self.width, self.height),interpolation=self.inter)"
   ]
  },
  {
   "cell_type": "code",
   "execution_count": null,
   "metadata": {},
   "outputs": [],
   "source": [
    "class SimpleDatasetLoader:\n",
    "    def __init__(self, preprocessors=None):\n",
    "        #store the image preprocessors\n",
    "        self.preprocessors = preprocessors\n",
    "\n",
    "        #if the preprocessors are none initialize as an empty list\n",
    "        if self.preprocessors is None:\n",
    "            self.preprocessors = []\n",
    "            \n",
    "    def load(self, imagePaths, verbose = -1):\n",
    "        #initialize the list of fearures nad labels \n",
    "        data = []\n",
    "        labels = []\n",
    "        \n",
    "        #loop over the input iamges\n",
    "        for(i, imagePath) in enumerate(imagePaths):\n",
    "            image = cv2.imread(imagePath)\n",
    "            label = imagePath.split(os.path.sep)[-2]\n",
    "#             print(label)\n",
    "            if self.preprocessors is not None:\n",
    "                #loop over the preprocessors and apply each to the image\n",
    "                for p in self.preprocessors:\n",
    "                    image = p.preprocess(image)\n",
    "            # treat our processed image as a \"feature vector\"\n",
    "            #by updating the data list followed by the labels\n",
    "            data.append(image)\n",
    "            labels.append(label)\n",
    "            \n",
    "            if verbose > 0 and i >0 and (i+1) % verbose ==0:\n",
    "                print(\"[INFO] processed {}/{}\".format(i+1, len(imagePaths)))\n",
    "                \n",
    "        return (np.array(data), np.array(labels))"
   ]
  },
  {
   "cell_type": "code",
   "execution_count": null,
   "metadata": {},
   "outputs": [],
   "source": [
    "\n",
    "# initialize the image preprocessor, load the dataset from disk,\n",
    "# and reshape the data matrix\n",
    "sp = SimplePreprocessor(32, 32)\n",
    "sdl = SimpleDatasetLoader(preprocessors=[sp])\n",
    "lb = LabelBinarizer()"
   ]
  },
  {
   "cell_type": "code",
   "execution_count": null,
   "metadata": {},
   "outputs": [],
   "source": [
    "# grab the list of images that we’ll be describing\n",
    "print(\"[INFO] loading images...\")\n",
    "loc = list(paths.list_images(\"locust/\"))\n",
    "(X, Y) = sdl.load(loc, verbose=500)\n",
    "Y = lb.fit_transform(Y)\n",
    "Y = np.reshape(Y,(76,1))\n",
    "X = X.astype(\"float\") / 255.0"
   ]
  },
  {
   "cell_type": "code",
   "execution_count": null,
   "metadata": {},
   "outputs": [],
   "source": [
    "# Encoding categorical data\n",
    "# Encoding the Independent Variable\n",
    "from sklearn.preprocessing import LabelEncoder, OneHotEncoder\n",
    "lab_y = OneHotEncoder()\n",
    "onehotencoder = OneHotEncoder(categorical_features = [0])\n",
    "Y = onehotencoder.fit_transform(Y).toarray()\n",
    "Y.shape"
   ]
  },
  {
   "cell_type": "code",
   "execution_count": null,
   "metadata": {},
   "outputs": [],
   "source": [
    "from sklearn.model_selection import train_test_split\n",
    "XTr, XTs, yTr, yTs = train_test_split(X,Y, test_size=0.20, random_state=42)"
   ]
  },
  {
   "cell_type": "code",
   "execution_count": null,
   "metadata": {},
   "outputs": [],
   "source": [
    "# construct the image generator for data augmentation\n",
    "aug = ImageDataGenerator(rotation_range=30, width_shift_range=0.1, \n",
    "                         height_shift_range=0.1, shear_range=0.2, zoom_range=0.2,\n",
    "                         horizontal_flip=True, fill_mode=\"nearest\")"
   ]
  },
  {
   "cell_type": "code",
   "execution_count": null,
   "metadata": {},
   "outputs": [],
   "source": [
    "class MiniVGGNet:\n",
    "    @staticmethod\n",
    "    def build (width, height, depth, classes):\n",
    "        model=Sequential()\n",
    "        inputShape = (height, width, depth)\n",
    "        chanDim = -1\n",
    "        if K.image_data_format() == \"channels_first\":\n",
    "            inputShape = (depth, height, width)\n",
    "            chanDim = 1\n",
    "            \n",
    "        model.add(Conv2D(32, (3,3), padding=\"same\", input_shape=inputShape))\n",
    "        model.add(Activation(\"relu\"))\n",
    "        model.add(BatchNormalization(axis=chanDim))\n",
    "        \n",
    "        model.add(Conv2D(32, (3,3), padding=\"same\"))\n",
    "        model.add(Activation(\"relu\"))\n",
    "        model.add(BatchNormalization(axis=chanDim))\n",
    "        \n",
    "        model.add(MaxPooling2D(pool_size =(2,2)))\n",
    "        model.add(Dropout(0.25))\n",
    "        \n",
    "        model.add(Conv2D(64, (3,3), padding=\"same\"))\n",
    "        model.add(Activation(\"relu\"))\n",
    "        model.add(BatchNormalization(axis=chanDim))\n",
    "        \n",
    "        model.add(Conv2D(64, (3,3), padding=\"same\"))\n",
    "        model.add(Activation(\"relu\"))\n",
    "        model.add(BatchNormalization(axis=chanDim))\n",
    "        \n",
    "        model.add(MaxPooling2D(pool_size =(2,2)))\n",
    "        model.add(Dropout(0.25))\n",
    "        \n",
    "        model.add(Flatten())\n",
    "        model.add(Dense(512))\n",
    "        model.add(Activation(\"relu\"))\n",
    "        model.add(BatchNormalization())\n",
    "        model.add(Dropout(0.5))\n",
    "        \n",
    "        model.add(Dense(classes))\n",
    "        model.add(Activation(\"softmax\"))\n",
    "        \n",
    "        return model"
   ]
  },
  {
   "cell_type": "code",
   "execution_count": null,
   "metadata": {},
   "outputs": [],
   "source": [
    "# initialize the optimizer and model\n",
    "\n",
    "print(\"[INFO] compiling model...\")\n",
    "opt = SGD(lr=0.01, decay=0.01 / 40, momentum=0.9, nesterov=True)\n",
    "model = MiniVGGNet.build(width=32, height=32, depth=3, classes=2)\n",
    "model.compile(loss=\"categorical_crossentropy\", optimizer=opt, metrics=[\"accuracy\"])\n",
    "print(\"[INFO] model summary\")\n",
    "model.summary()"
   ]
  },
  {
   "cell_type": "code",
   "execution_count": 19,
   "metadata": {},
   "outputs": [],
   "source": [
    "# construct the callback to save only the *best* model to disk\n",
    "# based on the validation loss\n",
    "fname = os.path.sep.join([\"weights\",\n",
    " \"weights-{epoch:03d}-{val_loss:.4f}.hdf5\"])"
   ]
  },
  {
   "cell_type": "code",
   "execution_count": 20,
   "metadata": {},
   "outputs": [],
   "source": [
    "checkpoint = ModelCheckpoint(fname, monitor=\"val_loss\", mode=\"min\",\n",
    "save_best_only=True, verbose=1)\n",
    "callbacks = [checkpoint]"
   ]
  },
  {
   "cell_type": "code",
   "execution_count": 22,
   "metadata": {},
   "outputs": [
    {
     "name": "stdout",
     "output_type": "stream",
     "text": [
      "[INFO] training network...\n",
      "WARNING:tensorflow:From /home/irra/anaconda3/lib/python3.7/site-packages/tensorflow/python/ops/math_ops.py:3066: to_int32 (from tensorflow.python.ops.math_ops) is deprecated and will be removed in a future version.\n",
      "Instructions for updating:\n",
      "Use tf.cast instead.\n",
      "Epoch 1/40\n",
      "1/1 [==============================] - 2s 2s/step - loss: 0.7106 - accuracy: 0.5000 - val_loss: 1.5700 - val_accuracy: 0.8125\n",
      "Epoch 2/40\n",
      "1/1 [==============================] - 0s 179ms/step - loss: 0.7713 - accuracy: 0.5000 - val_loss: 3.0221 - val_accuracy: 0.8125\n",
      "Epoch 3/40\n",
      "1/1 [==============================] - 0s 173ms/step - loss: 0.6173 - accuracy: 0.5000 - val_loss: 3.0221 - val_accuracy: 0.8125\n",
      "Epoch 4/40\n",
      "1/1 [==============================] - 0s 172ms/step - loss: 2.4703 - accuracy: 0.0000e+00 - val_loss: 3.0221 - val_accuracy: 0.8125\n",
      "Epoch 5/40\n",
      "1/1 [==============================] - 0s 193ms/step - loss: 2.3989 - accuracy: 0.5000 - val_loss: 3.0221 - val_accuracy: 0.8125\n",
      "Epoch 6/40\n",
      "1/1 [==============================] - 0s 165ms/step - loss: 1.0589 - accuracy: 0.5000 - val_loss: 13.0960 - val_accuracy: 0.1875\n",
      "Epoch 7/40\n",
      "1/1 [==============================] - 0s 200ms/step - loss: 3.4061 - accuracy: 0.5000 - val_loss: 3.0221 - val_accuracy: 0.8125\n",
      "Epoch 8/40\n",
      "1/1 [==============================] - 0s 185ms/step - loss: 0.1099 - accuracy: 1.0000 - val_loss: 3.0221 - val_accuracy: 0.8125\n",
      "Epoch 9/40\n",
      "1/1 [==============================] - 0s 205ms/step - loss: 4.8731 - accuracy: 0.5000 - val_loss: 3.0221 - val_accuracy: 0.8125\n",
      "Epoch 10/40\n",
      "1/1 [==============================] - 0s 231ms/step - loss: 0.1339 - accuracy: 1.0000 - val_loss: 3.0221 - val_accuracy: 0.8125\n",
      "Epoch 11/40\n",
      "1/1 [==============================] - 0s 191ms/step - loss: 3.4376 - accuracy: 0.5000 - val_loss: 3.0221 - val_accuracy: 0.8125\n",
      "Epoch 12/40\n",
      "1/1 [==============================] - 0s 181ms/step - loss: 1.8997 - accuracy: 0.0000e+00 - val_loss: 13.0960 - val_accuracy: 0.1875\n",
      "Epoch 13/40\n",
      "1/1 [==============================] - 0s 177ms/step - loss: 6.1441 - accuracy: 0.5000 - val_loss: 13.0960 - val_accuracy: 0.1875\n",
      "Epoch 14/40\n",
      "1/1 [==============================] - 0s 192ms/step - loss: 0.1255 - accuracy: 1.0000 - val_loss: 13.0960 - val_accuracy: 0.1875\n",
      "Epoch 15/40\n",
      "1/1 [==============================] - 0s 212ms/step - loss: 1.8473 - accuracy: 0.5000 - val_loss: 3.0221 - val_accuracy: 0.8125\n",
      "Epoch 16/40\n",
      "1/1 [==============================] - 0s 192ms/step - loss: 4.8898 - accuracy: 0.5000 - val_loss: 13.0960 - val_accuracy: 0.1875\n",
      "Epoch 17/40\n",
      "1/1 [==============================] - 0s 187ms/step - loss: 2.7901 - accuracy: 0.5000 - val_loss: 13.0960 - val_accuracy: 0.1875\n",
      "Epoch 18/40\n",
      "1/1 [==============================] - 0s 174ms/step - loss: 10.0905 - accuracy: 0.0000e+00 - val_loss: 13.0960 - val_accuracy: 0.1875\n",
      "Epoch 19/40\n",
      "1/1 [==============================] - 0s 174ms/step - loss: 10.1177 - accuracy: 0.0000e+00 - val_loss: 12.0886 - val_accuracy: 0.2500\n",
      "Epoch 20/40\n",
      "1/1 [==============================] - 0s 177ms/step - loss: 6.2844 - accuracy: 0.5000 - val_loss: 13.0960 - val_accuracy: 0.1875\n",
      "Epoch 21/40\n",
      "1/1 [==============================] - 0s 219ms/step - loss: 0.0118 - accuracy: 1.0000 - val_loss: 13.0960 - val_accuracy: 0.1875\n",
      "Epoch 22/40\n",
      "1/1 [==============================] - 0s 171ms/step - loss: 3.7578 - accuracy: 0.5000 - val_loss: 3.0221 - val_accuracy: 0.8125\n",
      "Epoch 23/40\n",
      "1/1 [==============================] - 0s 173ms/step - loss: 0.0233 - accuracy: 1.0000 - val_loss: 3.0221 - val_accuracy: 0.8125\n",
      "Epoch 24/40\n",
      "1/1 [==============================] - 0s 211ms/step - loss: 5.0656 - accuracy: 0.5000 - val_loss: 13.0960 - val_accuracy: 0.1875\n",
      "Epoch 25/40\n",
      "1/1 [==============================] - 0s 164ms/step - loss: 1.4368 - accuracy: 0.5000 - val_loss: 13.0960 - val_accuracy: 0.1875\n",
      "Epoch 26/40\n",
      "1/1 [==============================] - 0s 216ms/step - loss: 3.9201 - accuracy: 0.5000 - val_loss: 13.0960 - val_accuracy: 0.1875\n",
      "Epoch 27/40\n",
      "1/1 [==============================] - 0s 168ms/step - loss: 0.0032 - accuracy: 1.0000 - val_loss: 13.0960 - val_accuracy: 0.1875\n",
      "Epoch 28/40\n",
      "1/1 [==============================] - 0s 208ms/step - loss: 3.4881 - accuracy: 0.5000 - val_loss: 13.0960 - val_accuracy: 0.1875\n",
      "Epoch 29/40\n",
      "1/1 [==============================] - 0s 157ms/step - loss: 7.8168 - accuracy: 0.5000 - val_loss: 13.0960 - val_accuracy: 0.1875\n",
      "Epoch 30/40\n",
      "1/1 [==============================] - 0s 180ms/step - loss: 0.0510 - accuracy: 1.0000 - val_loss: 8.0590 - val_accuracy: 0.5000\n",
      "Epoch 31/40\n",
      "1/1 [==============================] - 0s 170ms/step - loss: 5.4037e-04 - accuracy: 1.0000 - val_loss: 5.2493 - val_accuracy: 0.6250\n",
      "Epoch 32/40\n",
      "1/1 [==============================] - 0s 205ms/step - loss: 0.8260 - accuracy: 0.5000 - val_loss: 2.0148 - val_accuracy: 0.8750\n",
      "Epoch 33/40\n",
      "1/1 [==============================] - 0s 167ms/step - loss: 0.0066 - accuracy: 1.0000 - val_loss: 3.0221 - val_accuracy: 0.8125\n",
      "Epoch 34/40\n",
      "1/1 [==============================] - 0s 174ms/step - loss: 5.0133 - accuracy: 0.5000 - val_loss: 13.0960 - val_accuracy: 0.1875\n",
      "Epoch 35/40\n",
      "1/1 [==============================] - 0s 207ms/step - loss: 0.0048 - accuracy: 1.0000 - val_loss: 13.0960 - val_accuracy: 0.1875\n",
      "Epoch 36/40\n",
      "1/1 [==============================] - 0s 154ms/step - loss: 0.0218 - accuracy: 1.0000 - val_loss: 13.0960 - val_accuracy: 0.1875\n",
      "Epoch 37/40\n",
      "1/1 [==============================] - 0s 208ms/step - loss: 12.2637 - accuracy: 0.0000e+00 - val_loss: 13.0960 - val_accuracy: 0.1875\n",
      "Epoch 38/40\n",
      "1/1 [==============================] - 0s 226ms/step - loss: 1.3566 - accuracy: 0.5000 - val_loss: 13.0960 - val_accuracy: 0.1875\n",
      "Epoch 39/40\n",
      "1/1 [==============================] - 0s 202ms/step - loss: 0.8576 - accuracy: 0.5000 - val_loss: 13.0960 - val_accuracy: 0.1875\n",
      "Epoch 40/40\n",
      "1/1 [==============================] - 0s 164ms/step - loss: 6.0301 - accuracy: 0.5000 - val_loss: 13.0960 - val_accuracy: 0.1875\n"
     ]
    }
   ],
   "source": [
    "# train the network\n",
    "print(\"[INFO] training network...\")\n",
    "H = model.fit_generator(aug.flow(XTr, yTr, batch_size=2),\n",
    "                        validation_data=(XTs, yTs), steps_per_epoch=len(XTr) // 32,\n",
    "                        epochs=40, verbose=1)"
   ]
  },
  {
   "cell_type": "code",
   "execution_count": 23,
   "metadata": {},
   "outputs": [
    {
     "name": "stdout",
     "output_type": "stream",
     "text": [
      "[INFO] evaluating network...\n",
      "              precision    recall  f1-score   support\n",
      "\n",
      "   dangerous       0.00      0.00      0.00        13\n",
      "      normal       0.19      1.00      0.32         3\n",
      "\n",
      "    accuracy                           0.19        16\n",
      "   macro avg       0.09      0.50      0.16        16\n",
      "weighted avg       0.04      0.19      0.06        16\n",
      "\n"
     ]
    }
   ],
   "source": [
    "# evaluate the network\n",
    "print(\"[INFO] evaluating network...\")\n",
    "predictions = model.predict(XTs, batch_size=16)\n",
    "print(classification_report(yTs.argmax(axis=1),\n",
    "                            predictions.argmax(axis=1), \n",
    "                            target_names=[str(x) for x in lb.classes_]))\n"
   ]
  },
  {
   "cell_type": "code",
   "execution_count": 24,
   "metadata": {},
   "outputs": [
    {
     "name": "stdout",
     "output_type": "stream",
     "text": [
      "plot the training loss and accuracy\n"
     ]
    },
    {
     "data": {
      "image/png": "[encoded data removed]",
      "text/plain": [
       "<Figure size 432x288 with 1 Axes>"
      ]
     },
     "metadata": {},
     "output_type": "display_data"
    }
   ],
   "source": [
    "%matplotlib inline\n",
    "print(\"plot the training loss and accuracy\")\n",
    "plt.style.use(\"ggplot\")\n",
    "plt.figure()\n",
    "plt.plot(np.arange(0, 40), H.history[\"loss\"], label=\"train_loss\")\n",
    "plt.plot(np.arange(0, 40), H.history[\"val_loss\"], label=\"val_loss\")\n",
    "plt.title(\" Loss \")\n",
    "plt.xlabel(\"Epoch #\")\n",
    "plt.ylabel(\"Loss\")\n",
    "plt.legend()\n",
    "plt.show()"
   ]
  },
  {
   "cell_type": "code",
   "execution_count": 25,
   "metadata": {},
   "outputs": [
    {
     "data": {
      "image/png": "[encoded data removed]",
      "text/plain": [
       "<Figure size 432x288 with 1 Axes>"
      ]
     },
     "metadata": {},
     "output_type": "display_data"
    }
   ],
   "source": [
    "%matplotlib inline\n",
    "plt.style.use(\"ggplot\")\n",
    "plt.figure()\n",
    "plt.plot(np.arange(0, 40), H.history[\"accuracy\"], label=\"train_acc\")\n",
    "plt.plot(np.arange(0, 40), H.history[\"val_accuracy\"], label=\"val_acc\")\n",
    "plt.title(\" Accuracy \")\n",
    "plt.xlabel(\"Epoch #\")\n",
    "plt.ylabel(\"Accuracy\")\n",
    "plt.legend()\n",
    "plt.show()"
   ]
  },
  {
   "cell_type": "code",
   "execution_count": 41,
   "metadata": {},
   "outputs": [],
   "source": [
    "model.save('model/model')"
   ]
  },
  {
   "cell_type": "code",
   "execution_count": 38,
   "metadata": {},
   "outputs": [
    {
     "data": {
      "text/plain": [
       "array([1])"
      ]
     },
     "execution_count": 38,
     "metadata": {},
     "output_type": "execute_result"
    }
   ],
   "source": [
    "im = cv2.imread('index.jpeg')\n",
    "im = cv2.resize(im, (32,32))\n",
    "im = np.reshape(im, (1,32,32,3))\n",
    "model.predict_classes(im)"
   ]
  },
  {
   "cell_type": "code",
   "execution_count": 32,
   "metadata": {},
   "outputs": [
    {
     "data": {
      "text/plain": [
       "(32, 32, 3)"
      ]
     },
     "execution_count": 32,
     "metadata": {},
     "output_type": "execute_result"
    }
   ],
   "source": [
    "im.shape"
   ]
  },
  {
   "cell_type": "code",
   "execution_count": null,
   "metadata": {},
   "outputs": [],
   "source": []
  }
 ],
 "metadata": {
  "kernelspec": {
   "display_name": "Python 3",
   "language": "python",
   "name": "python3"
  },
  "language_info": {
   "codemirror_mode": {
    "name": "ipython",
    "version": 3
   },
   "file_extension": ".py",
   "mimetype": "text/x-python",
   "name": "python",
   "nbconvert_exporter": "python",
   "pygments_lexer": "ipython3",
   "version": "3.7.4"
  }
 },
 "nbformat": 4,
 "nbformat_minor": 2
}
