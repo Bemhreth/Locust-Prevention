{
 "cells": [
  {
   "cell_type": "code",
   "execution_count": 1,
   "metadata": {},
   "outputs": [],
   "source": [
    "import warnings\n",
    "warnings.filterwarnings(\"ignore\")"
   ]
  },
  {
   "cell_type": "code",
   "execution_count": 2,
   "metadata": {},
   "outputs": [],
   "source": [
    "# import all the required library\n",
    "import cv2\n",
    "import os \n",
    "import numpy as np\n",
    "import matplotlib\n",
    "from imutils import paths\n",
    "import matplotlib.pyplot as plt\n",
    "\n",
    "from sklearn.model_selection import train_test_split\n",
    "from sklearn.metrics import classification_report\n",
    "from sklearn.preprocessing import LabelBinarizer\n",
    "from sklearn.preprocessing import LabelEncoder\n",
    "from sklearn.datasets import make_blobs\n",
    "\n",
    "from keras.models import Sequential\n",
    "from keras.layers.normalization import BatchNormalization\n",
    "from keras.layers.convolutional import Conv2D, MaxPooling2D\n",
    "from keras.preprocessing.image import ImageDataGenerator\n",
    "from keras.callbacks import ModelCheckpoint\n",
    "from keras.layers.core import Activation\n",
    "from keras.layers.core import Flatten\n",
    "from keras.layers.core import Dropout\n",
    "from keras.layers.core import Dense\n",
    "from keras.optimizers import SGD\n",
    "from keras.utils import plot_model\n",
    "from keras import backend as K"
   ]
  },
  {
   "cell_type": "code",
   "execution_count": 3,
   "metadata": {},
   "outputs": [],
   "source": [
    "class SimplePreprocessor:\n",
    "    def __init__(self, width, height, inter=cv2.INTER_AREA):\n",
    "        # store the target image width, height, and interpolation\n",
    "        # method used when resizing\n",
    "        self.width = width\n",
    "        self.height = height\n",
    "        self.inter = inter\n",
    "\n",
    "    def preprocess(self, image):\n",
    "        # resize the image to a fixed size, ignoring the aspect ratio\n",
    "        return cv2.resize(image, (self.width, self.height),interpolation=self.inter)"
   ]
  },
  {
   "cell_type": "code",
   "execution_count": 4,
   "metadata": {},
   "outputs": [],
   "source": [
    "class SimpleDatasetLoader:\n",
    "    def __init__(self, preprocessors=None):\n",
    "        #store the image preprocessors\n",
    "        self.preprocessors = preprocessors\n",
    "\n",
    "        #if the preprocessors are none initialize as an empty list\n",
    "        if self.preprocessors is None:\n",
    "            self.preprocessors = []\n",
    "            \n",
    "    def load(self, imagePaths, verbose = -1):\n",
    "        #initialize the list of fearures nad labels \n",
    "        data = []\n",
    "        labels = []\n",
    "        \n",
    "        #loop over the input iamges\n",
    "        for(i, imagePath) in enumerate(imagePaths):\n",
    "            image = cv2.imread(imagePath)\n",
    "            label = imagePath.split(os.path.sep)[-2]\n",
    "#             print(label)\n",
    "            if self.preprocessors is not None:\n",
    "                #loop over the preprocessors and apply each to the image\n",
    "                for p in self.preprocessors:\n",
    "                    image = p.preprocess(image)\n",
    "            # treat our processed image as a \"feature vector\"\n",
    "            #by updating the data list followed by the labels\n",
    "            data.append(image)\n",
    "            labels.append(label)\n",
    "            \n",
    "            if verbose > 0 and i >0 and (i+1) % verbose ==0:\n",
    "                print(\"[INFO] processed {}/{}\".format(i+1, len(imagePaths)))\n",
    "                \n",
    "        return (np.array(data), np.array(labels))"
   ]
  },
  {
   "cell_type": "code",
   "execution_count": 5,
   "metadata": {},
   "outputs": [],
   "source": [
    "\n",
    "# initialize the image preprocessor, load the dataset from disk,\n",
    "# and reshape the data matrix\n",
    "sp = SimplePreprocessor(32, 32)\n",
    "sdl = SimpleDatasetLoader(preprocessors=[sp])\n",
    "lb = LabelBinarizer()"
   ]
  },
  {
   "cell_type": "code",
   "execution_count": 8,
   "metadata": {},
   "outputs": [
    {
     "name": "stdout",
     "output_type": "stream",
     "text": [
      "[INFO] loading images...\n"
     ]
    }
   ],
   "source": [
    "# grab the list of images that we’ll be describing\n",
    "print(\"[INFO] loading images...\")\n",
    "loc = list(paths.list_images(\"vegitation/\"))\n",
    "(X, Y) = sdl.load(loc, verbose=500)\n",
    "Y = lb.fit_transform(Y)\n",
    "Y = np.reshape(Y,(38,1))\n",
    "X = X.astype(\"float\") / 255.0"
   ]
  },
  {
   "cell_type": "code",
   "execution_count": 9,
   "metadata": {},
   "outputs": [
    {
     "name": "stderr",
     "output_type": "stream",
     "text": [
      "/home/irra/anaconda3/lib/python3.7/site-packages/sklearn/preprocessing/_encoders.py:451: DeprecationWarning: The 'categorical_features' keyword is deprecated in version 0.20 and will be removed in 0.22. You can use the ColumnTransformer instead.\n",
      "  \"use the ColumnTransformer instead.\", DeprecationWarning)\n"
     ]
    },
    {
     "data": {
      "text/plain": [
       "(38, 2)"
      ]
     },
     "execution_count": 9,
     "metadata": {},
     "output_type": "execute_result"
    }
   ],
   "source": [
    "# Encoding categorical data\n",
    "# Encoding the Independent Variable\n",
    "from sklearn.preprocessing import LabelEncoder, OneHotEncoder\n",
    "lab_y = OneHotEncoder()\n",
    "onehotencoder = OneHotEncoder(categorical_features = [0])\n",
    "Y = onehotencoder.fit_transform(Y).toarray()\n",
    "Y.shape"
   ]
  },
  {
   "cell_type": "code",
   "execution_count": 10,
   "metadata": {},
   "outputs": [],
   "source": [
    "from sklearn.model_selection import train_test_split\n",
    "XTr, XTs, yTr, yTs = train_test_split(X,Y, test_size=0.20, random_state=42)"
   ]
  },
  {
   "cell_type": "code",
   "execution_count": 11,
   "metadata": {},
   "outputs": [],
   "source": [
    "# construct the image generator for data augmentation\n",
    "aug = ImageDataGenerator(rotation_range=30, width_shift_range=0.1, \n",
    "                         height_shift_range=0.1, shear_range=0.2, zoom_range=0.2,\n",
    "                         horizontal_flip=True, fill_mode=\"nearest\")"
   ]
  },
  {
   "cell_type": "code",
   "execution_count": 12,
   "metadata": {},
   "outputs": [],
   "source": [
    "class MiniVGGNet:\n",
    "    @staticmethod\n",
    "    def build (width, height, depth, classes):\n",
    "        model=Sequential()\n",
    "        inputShape = (height, width, depth)\n",
    "        chanDim = -1\n",
    "        if K.image_data_format() == \"channels_first\":\n",
    "            inputShape = (depth, height, width)\n",
    "            chanDim = 1\n",
    "            \n",
    "        model.add(Conv2D(32, (3,3), padding=\"same\", input_shape=inputShape))\n",
    "        model.add(Activation(\"relu\"))\n",
    "        model.add(BatchNormalization(axis=chanDim))\n",
    "        \n",
    "        model.add(Conv2D(32, (3,3), padding=\"same\"))\n",
    "        model.add(Activation(\"relu\"))\n",
    "        model.add(BatchNormalization(axis=chanDim))\n",
    "        \n",
    "        model.add(MaxPooling2D(pool_size =(2,2)))\n",
    "        model.add(Dropout(0.25))\n",
    "        \n",
    "        model.add(Conv2D(64, (3,3), padding=\"same\"))\n",
    "        model.add(Activation(\"relu\"))\n",
    "        model.add(BatchNormalization(axis=chanDim))\n",
    "        \n",
    "        model.add(Conv2D(64, (3,3), padding=\"same\"))\n",
    "        model.add(Activation(\"relu\"))\n",
    "        model.add(BatchNormalization(axis=chanDim))\n",
    "        \n",
    "        model.add(MaxPooling2D(pool_size =(2,2)))\n",
    "        model.add(Dropout(0.25))\n",
    "        \n",
    "        model.add(Flatten())\n",
    "        model.add(Dense(512))\n",
    "        model.add(Activation(\"relu\"))\n",
    "        model.add(BatchNormalization())\n",
    "        model.add(Dropout(0.5))\n",
    "        \n",
    "        model.add(Dense(classes))\n",
    "        model.add(Activation(\"softmax\"))\n",
    "        \n",
    "        return model"
   ]
  },
  {
   "cell_type": "code",
   "execution_count": 13,
   "metadata": {},
   "outputs": [
    {
     "name": "stdout",
     "output_type": "stream",
     "text": [
      "[INFO] compiling model...\n",
      "[INFO] model summary\n",
      "Model: \"sequential\"\n",
      "_________________________________________________________________\n",
      "Layer (type)                 Output Shape              Param #   \n",
      "=================================================================\n",
      "conv2d (Conv2D)              (None, 32, 32, 32)        896       \n",
      "_________________________________________________________________\n",
      "activation (Activation)      (None, 32, 32, 32)        0         \n",
      "_________________________________________________________________\n",
      "batch_normalization (BatchNo (None, 32, 32, 32)        128       \n",
      "_________________________________________________________________\n",
      "conv2d_1 (Conv2D)            (None, 32, 32, 32)        9248      \n",
      "_________________________________________________________________\n",
      "activation_1 (Activation)    (None, 32, 32, 32)        0         \n",
      "_________________________________________________________________\n",
      "batch_normalization_1 (Batch (None, 32, 32, 32)        128       \n",
      "_________________________________________________________________\n",
      "max_pooling2d (MaxPooling2D) (None, 16, 16, 32)        0         \n",
      "_________________________________________________________________\n",
      "dropout (Dropout)            (None, 16, 16, 32)        0         \n",
      "_________________________________________________________________\n",
      "conv2d_2 (Conv2D)            (None, 16, 16, 64)        18496     \n",
      "_________________________________________________________________\n",
      "activation_2 (Activation)    (None, 16, 16, 64)        0         \n",
      "_________________________________________________________________\n",
      "batch_normalization_2 (Batch (None, 16, 16, 64)        256       \n",
      "_________________________________________________________________\n",
      "conv2d_3 (Conv2D)            (None, 16, 16, 64)        36928     \n",
      "_________________________________________________________________\n",
      "activation_3 (Activation)    (None, 16, 16, 64)        0         \n",
      "_________________________________________________________________\n",
      "batch_normalization_3 (Batch (None, 16, 16, 64)        256       \n",
      "_________________________________________________________________\n",
      "max_pooling2d_1 (MaxPooling2 (None, 8, 8, 64)          0         \n",
      "_________________________________________________________________\n",
      "dropout_1 (Dropout)          (None, 8, 8, 64)          0         \n",
      "_________________________________________________________________\n",
      "flatten (Flatten)            (None, 4096)              0         \n",
      "_________________________________________________________________\n",
      "dense (Dense)                (None, 512)               2097664   \n",
      "_________________________________________________________________\n",
      "activation_4 (Activation)    (None, 512)               0         \n",
      "_________________________________________________________________\n",
      "batch_normalization_4 (Batch (None, 512)               2048      \n",
      "_________________________________________________________________\n",
      "dropout_2 (Dropout)          (None, 512)               0         \n",
      "_________________________________________________________________\n",
      "dense_1 (Dense)              (None, 2)                 1026      \n",
      "_________________________________________________________________\n",
      "activation_5 (Activation)    (None, 2)                 0         \n",
      "=================================================================\n",
      "Total params: 2,167,074\n",
      "Trainable params: 2,165,666\n",
      "Non-trainable params: 1,408\n",
      "_________________________________________________________________\n"
     ]
    }
   ],
   "source": [
    "# initialize the optimizer and model\n",
    "\n",
    "print(\"[INFO] compiling model...\")\n",
    "opt = SGD(lr=0.01, decay=0.01 / 40, momentum=0.9, nesterov=True)\n",
    "model = MiniVGGNet.build(width=32, height=32, depth=3, classes=2)\n",
    "model.compile(loss=\"categorical_crossentropy\", optimizer=opt, metrics=[\"accuracy\"])\n",
    "print(\"[INFO] model summary\")\n",
    "model.summary()"
   ]
  },
  {
   "cell_type": "code",
   "execution_count": 14,
   "metadata": {},
   "outputs": [],
   "source": [
    "# construct the callback to save only the *best* model to disk\n",
    "# based on the validation loss\n",
    "fname = os.path.sep.join([\"weights\",\n",
    " \"weights-{epoch:03d}-{val_loss:.4f}.hdf5\"])"
   ]
  },
  {
   "cell_type": "code",
   "execution_count": 15,
   "metadata": {},
   "outputs": [],
   "source": [
    "checkpoint = ModelCheckpoint(fname, monitor=\"val_loss\", mode=\"min\",\n",
    "save_best_only=True, verbose=1)\n",
    "callbacks = [checkpoint]"
   ]
  },
  {
   "cell_type": "code",
   "execution_count": 18,
   "metadata": {},
   "outputs": [
    {
     "name": "stdout",
     "output_type": "stream",
     "text": [
      "[INFO] training network...\n",
      "Epoch 1/40\n",
      "15/15 [==============================] - 5s 111ms/step - loss: 1.1689 - accuracy: 0.5468 - val_loss: 329.7455 - val_accuracy: 0.6250\n",
      "Epoch 2/40\n",
      "15/15 [==============================] - 1s 59ms/step - loss: 2.0509 - accuracy: 0.6287 - val_loss: 2996.0967 - val_accuracy: 0.6250\n",
      "Epoch 3/40\n",
      "15/15 [==============================] - 1s 63ms/step - loss: 4.5025 - accuracy: 0.6910 - val_loss: 1812.9535 - val_accuracy: 0.3750\n",
      "Epoch 4/40\n",
      "15/15 [==============================] - 1s 62ms/step - loss: 4.3172 - accuracy: 0.7103 - val_loss: 80.6891 - val_accuracy: 0.8750\n",
      "Epoch 5/40\n",
      "15/15 [==============================] - 1s 60ms/step - loss: 5.7025 - accuracy: 0.6800 - val_loss: 304.2458 - val_accuracy: 0.6250\n",
      "Epoch 6/40\n",
      "15/15 [==============================] - 1s 62ms/step - loss: 7.7504 - accuracy: 0.6107 - val_loss: 192.9702 - val_accuracy: 0.6250\n",
      "Epoch 7/40\n",
      "15/15 [==============================] - 2s 105ms/step - loss: 4.1746 - accuracy: 0.6936 - val_loss: 220.0000 - val_accuracy: 0.6250\n",
      "Epoch 8/40\n",
      "15/15 [==============================] - 1s 61ms/step - loss: 11.1708 - accuracy: 0.5220 - val_loss: 242.9081 - val_accuracy: 0.1250\n",
      "Epoch 9/40\n",
      "15/15 [==============================] - 1s 59ms/step - loss: 7.4103 - accuracy: 0.5791 - val_loss: 230.4090 - val_accuracy: 0.6250\n",
      "Epoch 10/40\n",
      "15/15 [==============================] - 1s 57ms/step - loss: 8.5158 - accuracy: 0.6693 - val_loss: 21659.2988 - val_accuracy: 0.6250\n",
      "Epoch 11/40\n",
      "15/15 [==============================] - 1s 60ms/step - loss: 4.5031 - accuracy: 0.7646 - val_loss: 185.9517 - val_accuracy: 0.7500\n",
      "Epoch 12/40\n",
      "15/15 [==============================] - 1s 68ms/step - loss: 2.4077 - accuracy: 0.7979 - val_loss: 0.0000e+00 - val_accuracy: 1.0000\n",
      "Epoch 13/40\n",
      "15/15 [==============================] - 1s 57ms/step - loss: 12.2811 - accuracy: 0.4704 - val_loss: 0.0000e+00 - val_accuracy: 1.0000\n",
      "Epoch 14/40\n",
      "15/15 [==============================] - 1s 62ms/step - loss: 5.3470 - accuracy: 0.5685 - val_loss: 1846.2692 - val_accuracy: 0.3750\n",
      "Epoch 15/40\n",
      "15/15 [==============================] - 1s 64ms/step - loss: 4.0801 - accuracy: 0.7668 - val_loss: 14.4429 - val_accuracy: 0.6250\n",
      "Epoch 16/40\n",
      "15/15 [==============================] - 1s 68ms/step - loss: 12.3770 - accuracy: 0.4833 - val_loss: 7228.2783 - val_accuracy: 0.6250\n",
      "Epoch 17/40\n",
      "15/15 [==============================] - 1s 72ms/step - loss: 2.9502 - accuracy: 0.8438 - val_loss: 25216.5234 - val_accuracy: 0.6250\n",
      "Epoch 18/40\n",
      "15/15 [==============================] - 1s 78ms/step - loss: 5.1561 - accuracy: 0.6790 - val_loss: 36149.0547 - val_accuracy: 0.6250\n",
      "Epoch 19/40\n",
      "15/15 [==============================] - 1s 61ms/step - loss: 10.2930 - accuracy: 0.7167 - val_loss: 27441.0391 - val_accuracy: 0.6250\n",
      "Epoch 20/40\n",
      "15/15 [==============================] - 1s 68ms/step - loss: 3.0899 - accuracy: 0.8091 - val_loss: 21160.6758 - val_accuracy: 0.6250\n",
      "Epoch 21/40\n",
      "15/15 [==============================] - 1s 61ms/step - loss: 5.2749 - accuracy: 0.5477 - val_loss: 10985.8516 - val_accuracy: 0.6250\n",
      "Epoch 22/40\n",
      "15/15 [==============================] - 1s 57ms/step - loss: 3.7248 - accuracy: 0.6889 - val_loss: 10032.5088 - val_accuracy: 0.6250\n",
      "Epoch 23/40\n",
      "15/15 [==============================] - 1s 50ms/step - loss: 2.1858 - accuracy: 0.7594 - val_loss: 23905.1387 - val_accuracy: 0.3750\n",
      "Epoch 24/40\n",
      "15/15 [==============================] - 1s 64ms/step - loss: 2.6876 - accuracy: 0.6748 - val_loss: 10.3052 - val_accuracy: 0.3750\n",
      "Epoch 25/40\n",
      "15/15 [==============================] - 1s 81ms/step - loss: 2.3242 - accuracy: 0.6905 - val_loss: 5.4290 - val_accuracy: 0.7500\n",
      "Epoch 26/40\n",
      "15/15 [==============================] - 1s 71ms/step - loss: 5.6505 - accuracy: 0.6634 - val_loss: 2.2946 - val_accuracy: 0.5000\n",
      "Epoch 27/40\n",
      "15/15 [==============================] - 1s 69ms/step - loss: 9.7976 - accuracy: 0.6219 - val_loss: 1.2997 - val_accuracy: 0.6250\n",
      "Epoch 28/40\n",
      "15/15 [==============================] - 1s 70ms/step - loss: 4.2307 - accuracy: 0.6561 - val_loss: 4.0021 - val_accuracy: 0.5000\n",
      "Epoch 29/40\n",
      "15/15 [==============================] - 1s 71ms/step - loss: 4.3678 - accuracy: 0.6618 - val_loss: 3.6822 - val_accuracy: 0.5000\n",
      "Epoch 30/40\n",
      "15/15 [==============================] - 1s 69ms/step - loss: 6.0340 - accuracy: 0.5647 - val_loss: 1.8843 - val_accuracy: 0.7500\n",
      "Epoch 31/40\n",
      "15/15 [==============================] - 1s 60ms/step - loss: 1.6512 - accuracy: 0.8084 - val_loss: 14.3575 - val_accuracy: 0.3750\n",
      "Epoch 32/40\n",
      "15/15 [==============================] - 1s 62ms/step - loss: 2.1416 - accuracy: 0.7469 - val_loss: 36.6161 - val_accuracy: 0.3750\n",
      "Epoch 33/40\n",
      "15/15 [==============================] - 1s 60ms/step - loss: 2.2732 - accuracy: 0.7296 - val_loss: 20.6380 - val_accuracy: 0.3750\n",
      "Epoch 34/40\n",
      "15/15 [==============================] - 1s 64ms/step - loss: 6.0042 - accuracy: 0.6608 - val_loss: 18.2595 - val_accuracy: 0.3750\n",
      "Epoch 35/40\n",
      "15/15 [==============================] - 1s 58ms/step - loss: 4.1327 - accuracy: 0.6029 - val_loss: 12.2809 - val_accuracy: 0.3750\n",
      "Epoch 36/40\n",
      "15/15 [==============================] - 1s 57ms/step - loss: 3.4722 - accuracy: 0.6942 - val_loss: 8.7355 - val_accuracy: 0.3750\n",
      "Epoch 37/40\n",
      "15/15 [==============================] - 1s 58ms/step - loss: 1.0892 - accuracy: 0.7913 - val_loss: 0.0000e+00 - val_accuracy: 1.0000\n",
      "Epoch 38/40\n",
      "15/15 [==============================] - 1s 66ms/step - loss: 2.1680 - accuracy: 0.6746 - val_loss: 0.6012 - val_accuracy: 0.8750\n",
      "Epoch 39/40\n",
      "15/15 [==============================] - 1s 67ms/step - loss: 1.7903 - accuracy: 0.8772 - val_loss: 5.0507 - val_accuracy: 0.7500\n",
      "Epoch 40/40\n",
      "15/15 [==============================] - 1s 71ms/step - loss: 1.4430 - accuracy: 0.7571 - val_loss: 25.3026 - val_accuracy: 0.3750\n"
     ]
    }
   ],
   "source": [
    "# train the network\n",
    "print(\"[INFO] training network...\")\n",
    "H = model.fit_generator(aug.flow(XTr, yTr, batch_size=2),\n",
    "                        validation_data=(XTs, yTs), steps_per_epoch=len(XTr)//2,\n",
    "                        epochs=40, verbose=1)"
   ]
  },
  {
   "cell_type": "code",
   "execution_count": 19,
   "metadata": {},
   "outputs": [
    {
     "name": "stdout",
     "output_type": "stream",
     "text": [
      "[INFO] evaluating network...\n",
      "              precision    recall  f1-score   support\n",
      "\n",
      "         dry       0.00      0.00      0.00         3\n",
      "       green       0.50      0.60      0.55         5\n",
      "\n",
      "    accuracy                           0.38         8\n",
      "   macro avg       0.25      0.30      0.27         8\n",
      "weighted avg       0.31      0.38      0.34         8\n",
      "\n"
     ]
    }
   ],
   "source": [
    "# evaluate the network\n",
    "print(\"[INFO] evaluating network...\")\n",
    "predictions = model.predict(XTs, batch_size=16)\n",
    "print(classification_report(yTs.argmax(axis=1),\n",
    "                            predictions.argmax(axis=1), \n",
    "                            target_names=[str(x) for x in lb.classes_]))\n"
   ]
  },
  {
   "cell_type": "code",
   "execution_count": 20,
   "metadata": {},
   "outputs": [
    {
     "name": "stdout",
     "output_type": "stream",
     "text": [
      "plot the training loss and accuracy\n"
     ]
    },
    {
     "data": {
      "image/png": "[encoded data removed]",
      "text/plain": [
       "<Figure size 432x288 with 1 Axes>"
      ]
     },
     "metadata": {},
     "output_type": "display_data"
    }
   ],
   "source": [
    "%matplotlib inline\n",
    "print(\"plot the training loss and accuracy\")\n",
    "plt.style.use(\"ggplot\")\n",
    "plt.figure()\n",
    "plt.plot(np.arange(0, 40), H.history[\"loss\"], label=\"train_loss\")\n",
    "plt.plot(np.arange(0, 40), H.history[\"val_loss\"], label=\"val_loss\")\n",
    "plt.title(\" Loss \")\n",
    "plt.xlabel(\"Epoch #\")\n",
    "plt.ylabel(\"Loss\")\n",
    "plt.legend()\n",
    "plt.show()"
   ]
  },
  {
   "cell_type": "code",
   "execution_count": 21,
   "metadata": {},
   "outputs": [
    {
     "data": {
      "image/png": "[encoded data removed]",
      "text/plain": [
       "<Figure size 432x288 with 1 Axes>"
      ]
     },
     "metadata": {},
     "output_type": "display_data"
    }
   ],
   "source": [
    "%matplotlib inline\n",
    "plt.style.use(\"ggplot\")\n",
    "plt.figure()\n",
    "plt.plot(np.arange(0, 40), H.history[\"accuracy\"], label=\"train_acc\")\n",
    "plt.plot(np.arange(0, 40), H.history[\"val_accuracy\"], label=\"val_acc\")\n",
    "plt.title(\" Accuracy \")\n",
    "plt.xlabel(\"Epoch #\")\n",
    "plt.ylabel(\"Accuracy\")\n",
    "plt.legend()\n",
    "plt.show()"
   ]
  },
  {
   "cell_type": "code",
   "execution_count": 42,
   "metadata": {},
   "outputs": [],
   "source": [
    "model.save('vagitaion_model.h5')"
   ]
  },
  {
   "cell_type": "code",
   "execution_count": 40,
   "metadata": {},
   "outputs": [],
   "source": [
    "im = cv2.imread('d.png')\n",
    "im = cv2.resize(im, (32,32))\n",
    "im = np.reshape(im, (1,32,32,3))\n",
    "pred = model.predict(im)"
   ]
  },
  {
   "cell_type": "code",
   "execution_count": 41,
   "metadata": {},
   "outputs": [
    {
     "name": "stdout",
     "output_type": "stream",
     "text": [
      "[[1. 0.]]\n"
     ]
    }
   ],
   "source": [
    "print(pred)"
   ]
  },
  {
   "cell_type": "code",
   "execution_count": null,
   "metadata": {},
   "outputs": [],
   "source": []
  }
 ],
 "metadata": {
  "kernelspec": {
   "display_name": "Python 3",
   "language": "python",
   "name": "python3"
  },
  "language_info": {
   "codemirror_mode": {
    "name": "ipython",
    "version": 3
   },
   "file_extension": ".py",
   "mimetype": "text/x-python",
   "name": "python",
   "nbconvert_exporter": "python",
   "pygments_lexer": "ipython3",
   "version": "3.7.4"
  }
 },
 "nbformat": 4,
 "nbformat_minor": 2
}
